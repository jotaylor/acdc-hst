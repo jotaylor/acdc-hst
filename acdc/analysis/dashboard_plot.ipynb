{
 "cells": [
  {
   "cell_type": "markdown",
   "metadata": {},
   "source": [
    "# Explore the COS dark parameter space\n",
    "Author: Jo Taylor (jotaylor@stsci.edu)\n",
    "\n",
    "Last Update: Mar 19 2024"
   ]
  },
  {
   "cell_type": "code",
   "execution_count": null,
   "metadata": {},
   "outputs": [],
   "source": [
    "from IPython.core.display import display, HTML\n",
    "display(HTML(\"<style>.container { width:100% !important; }</style>\"))\n",
    "display(\"text/html\", \"<style>.container { width:100% !important; }</style>\")"
   ]
  },
  {
   "cell_type": "code",
   "execution_count": null,
   "metadata": {},
   "outputs": [],
   "source": [
    "import holoviews as hv\n",
    "from holoviews.operation.datashader import datashade, dynspread, spread\n",
    "#from holoviews import opts\n",
    "#from holoviews.selection import link_selections\n",
    "hv.extension('bokeh')\n",
    "import panel as pn\n",
    "\n",
    "from acdc.database.query_cos_dark import counts_by_mjd, all_darks\n",
    "from acdc.database import within_saa\n",
    "\n",
    "print(hv.__version__)"
   ]
  },
  {
   "cell_type": "markdown",
   "metadata": {},
   "source": [
    "### Get exposure information for all darks, by default\n",
    "To connect to your local database, add the `dbname=` option when invoking `all_darks()`. This should include the full path of the database, e.g. `/path/to/cos_dark.db`. If in the current directory, do not include `.` or `./`, simply use `cos_dark.db`.\n",
    "\n",
    "You may also specify selection criteria by using `counts_by_mjd()`."
   ]
  },
  {
   "cell_type": "code",
   "execution_count": null,
   "metadata": {},
   "outputs": [],
   "source": [
    "#df = counts_by_mjd(mjdstart=56500, mjdend=56510)\n",
    "df = all_darks()\n",
    "df.sort_values(by=[\"expstart\"], inplace=True)"
   ]
  },
  {
   "cell_type": "markdown",
   "metadata": {},
   "source": [
    "Flag data that was taken within the SAA."
   ]
  },
  {
   "cell_type": "code",
   "execution_count": null,
   "metadata": {},
   "outputs": [],
   "source": [
    "flags = within_saa.saaFilter(df[\"longitude\"].to_numpy(), df[\"latitude\"].to_numpy())\n",
    "df_flag = df.loc[flags]\n",
    "df_noflag = df.loc[flags == False]"
   ]
  },
  {
   "cell_type": "markdown",
   "metadata": {},
   "source": [
    "### Create the interactive exploration plot\n",
    "First define the holoviews widget- you should not edit anything here."
   ]
  },
  {
   "cell_type": "code",
   "execution_count": null,
   "metadata": {},
   "outputs": [],
   "source": [
    "import param\n",
    "import panel as pn\n",
    "\n",
    "class DarkExplorer(param.Parameterized):\n",
    "    flagsaa = param.Boolean(default=False)\n",
    "    region = param.ObjectSelector(default=\"inner\", objects=set(df[\"region\"]))\n",
    "    segment = param.ObjectSelector(default=\"FUVA\", objects=[\"FUVA\", \"FUVB\"])\n",
    "    hv = param.ObjectSelector(default=167, objects=set(df[\"hv\"]))\n",
    "    \n",
    "    xaxis = param.ObjectSelector(default=\"expstart\", objects=df.columns.to_list())\n",
    "    yaxis = param.ObjectSelector(default=\"dark_pha11\", objects=df.columns.to_list())\n",
    "    \n",
    "    @param.depends(\"region\", \"segment\", \"hv\", \"xaxis\", \"yaxis\")\n",
    "    def saa_false(self):\n",
    "        dfplot_noflag = df_noflag.loc[(df_noflag[\"segment\"] == self.segment) & (df_noflag[\"hv\"] == self.hv) & (df_noflag[\"region\"] == self.region)]\n",
    "        sctr_noflag = hv.Scatter((dfplot_noflag[self.xaxis], dfplot_noflag[self.yaxis]))\n",
    "        return sctr_noflag\n",
    "    \n",
    "    @param.depends(\"region\", \"segment\", \"hv\", \"xaxis\", \"yaxis\")\n",
    "    def saa_true(self):\n",
    "        dfplot_flag = df_flag.loc[(df_flag[\"segment\"] == self.segment) & (df_flag[\"hv\"] == self.hv) & (df_flag[\"region\"] == self.region)]\n",
    "        sctr_flag = hv.Scatter((dfplot_flag[self.xaxis], dfplot_flag[self.yaxis]))\n",
    "        return sctr_flag\n",
    "    \n",
    "    @param.depends(\"flagsaa\")\n",
    "    def view(self):\n",
    "        dmap_noflag = hv.DynamicMap(self.saa_false)\n",
    "        #dmap_ds = dynspread(datashade(dmap_noflag)).opts(framewise=True, height=700, width=1000)\n",
    "        dmap_ds = dmap_noflag.opts(framewise=True, height=700, width=1000)\n",
    "        if self.flagsaa:\n",
    "            dmap_flag = hv.DynamicMap(self.saa_true)\n",
    "            #dmap_flag_ds = dynspread(datashade(dmap_flag, cmap=[\"red\"])).opts(framewise=True, height=700, width=1000)\n",
    "            dmap_flag_ds = dmap_flag.opts(color=\"red\", framewise=True, height=700, width=1000)\n",
    "            dmap_ds = dmap_ds * dmap_flag_ds\n",
    "        return dmap_ds\n",
    "            "
   ]
  },
  {
   "cell_type": "markdown",
   "metadata": {},
   "source": [
    "### Display the widget. \n",
    "Click the `Flagsaa` box to display data taken with the SAA as red points. If unchecked, data within SAA *will not be displayed*.\n",
    "\n",
    "The `Region`, `Segment`, and `Hv` selections determine which data will be plotted.\n",
    "\n",
    "The `Xaxis`, `Yaxis` selections determine what arrays are plotted on the x and y axes.\n",
    "\n",
    "**NOTE:** There may be a small delay (1-2 seconds) when choosing a new data subselection to plot."
   ]
  },
  {
   "cell_type": "code",
   "execution_count": null,
   "metadata": {},
   "outputs": [],
   "source": [
    "explorer = DarkExplorer()\n",
    "app = pn.Row(explorer.param, explorer.view)\n",
    "app"
   ]
  },
  {
   "cell_type": "markdown",
   "metadata": {},
   "source": [
    "### Not in use\n",
    "\n",
    "This displays the widget using `dynspread`, which responds to data reselection much faster, but the plot quality is greatly degraded."
   ]
  },
  {
   "cell_type": "code",
   "execution_count": null,
   "metadata": {},
   "outputs": [],
   "source": [
    "#explorer = DarkExplorer()\n",
    "#dark_dmap = dynspread(datashade(hv.DynamicMap(explorer.load_data).opts(framewise=True), cmap=[\"cornflowerblue\"]).opts(framewise=True), threshold=0.5).opts(framewise=True, height=700, width=1000)\n",
    "#dark_dmap = hv.DynamicMap(explorer.load_data)\n",
    "#pn.Row(pn.panel(explorer.param, parameters=[\"flagsaa\", \"region\", \"segment\", \"hv\", \"xaxis\", \"yaxis\"]), dark_dmap)"
   ]
  }
 ],
 "metadata": {
  "kernelspec": {
   "display_name": "Python 3 (ipykernel)",
   "language": "python",
   "name": "python3"
  },
  "language_info": {
   "codemirror_mode": {
    "name": "ipython",
    "version": 3
   },
   "file_extension": ".py",
   "mimetype": "text/x-python",
   "name": "python",
   "nbconvert_exporter": "python",
   "pygments_lexer": "ipython3",
   "version": "3.11.5"
  }
 },
 "nbformat": 4,
 "nbformat_minor": 4
}
