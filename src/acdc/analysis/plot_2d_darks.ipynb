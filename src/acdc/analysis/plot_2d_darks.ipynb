{
 "cells": [
  {
   "cell_type": "markdown",
   "metadata": {},
   "source": [
    "# Plot 2D corrtag images for a given of time ranges\n",
    "Author: Jo Taylor\n",
    "\n",
    "Date: March 19, 2024"
   ]
  },
  {
   "cell_type": "code",
   "execution_count": null,
   "metadata": {},
   "outputs": [],
   "source": [
    "from astropy.io import fits\n",
    "import numpy as np\n",
    "%matplotlib inline\n",
    "import matplotlib.pyplot as plt\n",
    "params={'legend.fontsize':'18','axes.labelsize':'18',\n",
    "        'axes.titlesize':'18','xtick.labelsize':'18',\n",
    "        'ytick.labelsize':'18','lines.linewidth':2,\n",
    "        'axes.linewidth':2,'animation.html': 'html5',\n",
    "        'figure.figsize':(15,15)}\n",
    "plt.rcParams.update(params)\n",
    "\n",
    "from acdc.database.query_cos_dark import files_by_mjd"
   ]
  },
  {
   "cell_type": "markdown",
   "metadata": {},
   "source": [
    "To connect to your local database, change `dbname` below.\n",
    "This should include the full path of the database, e.g. `/path/to/cos_dark.db`. If in the current directory, do not include `.` or `./`, simply use `cos_dark.db`."
   ]
  },
  {
   "cell_type": "code",
   "execution_count": null,
   "metadata": {},
   "outputs": [],
   "source": [
    "# Given an MJD start and end, return list of corrtag files\n",
    "def get_corrtag_files(mjdstart, mjdend, segment=\"FUVA\", hv=167):\n",
    "    df = files_by_mjd(mjdstart, mjdend, segment=segment, hv=hv, dbname=\"cos_dark\")\n",
    "    files = df[\"fileloc\"].to_list()\n",
    "    return files"
   ]
  },
  {
   "cell_type": "markdown",
   "metadata": {},
   "source": [
    "In the below cell, you can change the date ranges in `time_ranges`, or add more key/values pairs for other time ranges of interest.\n",
    "All time ranges will be plotted as separate figures later."
   ]
  },
  {
   "cell_type": "code",
   "execution_count": null,
   "metadata": {},
   "outputs": [],
   "source": [
    "# MJD dates to query the database on. These can be changed as desired, or more key/value pairs can be added.\n",
    "# By default, only get SEGMENT=FUVA files and HV=167. Can change to specific value (e.g.FUVB) or * to get all\n",
    "time_ranges = {\"quiescent\": (57754, 58000)}\n",
    "#time_ranges = {\"167FUVB\": (57150, 57190)}\n",
    "#time_ranges = {\"Andrei\": (57680, 57720)}\n",
    "#time_ranges = {\"Shutdown\": (56000, 56100)}\n",
    "#time_ranges = {\"Before B/A Max\": (56500, 56520),\n",
    "#               \"B/A Max\": (56550, 56570),\n",
    "#               \"After B/A Max\": (56650, 56670),\n",
    "#               \"B/A Min\": (56740, 56760),\n",
    "#               \"Post\": (57520, 57540)}\n",
    "file_ranges = {}\n",
    "for k,trange in time_ranges.items():\n",
    "#    files = get_corrtag_files(mjdstart=trange[0], mjdend=trange[1], segment=\"FUVB\", hv=167)\n",
    "#    files = get_corrtag_files(mjdstart=trange[0], mjdend=trange[1], segment=\"FUVB\", hv=175)\n",
    "    print(trange[0], trange[1])\n",
    "    files = get_corrtag_files(mjdstart=trange[0], mjdend=trange[1], segment=\"FUVA\", hv=167)\n",
    "    file_ranges[k] = files"
   ]
  },
  {
   "cell_type": "code",
   "execution_count": null,
   "metadata": {},
   "outputs": [],
   "source": [
    "print(len(files))"
   ]
  },
  {
   "cell_type": "markdown",
   "metadata": {},
   "source": [
    "This slope and intercept defines the \"PHA of interest\" a.k.a. modal gain, as a function of HV."
   ]
  },
  {
   "cell_type": "code",
   "execution_count": null,
   "metadata": {},
   "outputs": [],
   "source": [
    "m = 0.39\n",
    "b = 11 - (m*167)"
   ]
  },
  {
   "cell_type": "markdown",
   "metadata": {},
   "source": [
    "Not necessary to run, but to explore the PHA space for a single file, execute the below cell. `pha_interests` and `datafile` may be changed as desired. "
   ]
  },
  {
   "cell_type": "code",
   "execution_count": null,
   "metadata": {},
   "outputs": [],
   "source": [
    "pha_interests = np.arange(0,32)\n",
    "#data_file = \"/astro/sveash/darks/14520/ldd301bdq_corrtag_a.fits\"\n",
    "#data_file = \"/astro/sveash/darks/13521/lce30mxxq_corrtag_a.fits\"\n",
    "#data_file = \"/astro/sveash/darks/14520/ldd301bdq_corrtag_b.fits\"\n",
    "data_file = \"/astro/sveash/darks/13521/lce30mxxq_corrtag_b.fits\""
   ]
  },
  {
   "cell_type": "code",
   "execution_count": null,
   "metadata": {},
   "outputs": [],
   "source": [
    "segment = fits.getval(data_file, \"segment\")\n",
    "ncols = 4\n",
    "nrows = int(np.ceil(len(pha_interests)/ncols))\n",
    "fig, axes = plt.subplots(nrows, ncols, figsize=(35, 3*nrows))\n",
    "data = fits.getdata(data_file)\n",
    "for i,ax in enumerate(axes.flatten()):\n",
    "    pha_interest = pha_interests[i]\n",
    "    events_interest = np.where((data[\"pha\"] < pha_interest) | (data[\"pha\"] > pha_interest))[0]\n",
    "    events_notinterest = np.where(data[\"pha\"] == pha_interest)[0]\n",
    "    ax.plot(data[\"xfull\"][events_interest], data[\"yfull\"][events_interest], \"k.\", markersize=1)\n",
    "    ax.plot(data[\"xfull\"][events_notinterest], data[\"yfull\"][events_notinterest], \"ro\", markersize=2, alpha=0.9)\n",
    "    ax.set_title(f\"PHA={pha_interest}, N={len(events_notinterest)}\")\n",
    "    if segment == \"FUVA\":\n",
    "        ax.set_xlim(800, 15500)\n",
    "        ax.set_ylim(250, 800)\n",
    "    else:\n",
    "        ax.set_xlim(700, 15400)\n",
    "        ax.set_ylim(300, 850)      \n",
    "    if i == len(pha_interests)-1:\n",
    "        break\n",
    "fig.suptitle(os.path.basename(data_file), size=50, y=1.0)\n",
    "figname = f\"{os.path.basename(data_file)[:9]}_{segment}_phas.png\"\n",
    "fig.tight_layout()\n",
    "fig.savefig(figname)\n",
    "print(f\"Saved {figname}\")"
   ]
  },
  {
   "cell_type": "markdown",
   "metadata": {},
   "source": [
    "## Plot 2D dark exposures with time\n",
    "\n",
    "For a given PHA of interest, `pha_interest`, plot the 2D corrtag images (**XFULL**, **YFULL**) for each specified time range."
   ]
  },
  {
   "cell_type": "code",
   "execution_count": null,
   "metadata": {},
   "outputs": [],
   "source": [
    "# Create subplots for the corrtag files as 2D images\n",
    "#pha_interest = [23,24,25,26]\n",
    "pha_interest = 19\n",
    "#pha_interest = round(m*int(hv) + b)\n",
    "\n",
    "for lbl, files in file_ranges.items():\n",
    "    ncols = 3\n",
    "    nrows = int(np.ceil(len(files)/ncols))\n",
    "    fig, axes = plt.subplots(nrows, ncols, figsize=(25, 2*nrows))\n",
    "    plt.suptitle(lbl, y=1.0, fontweight=\"bold\")\n",
    "    plt.subplots_adjust(hspace=0.6)\n",
    "    for i, ax in enumerate(axes.flatten()):\n",
    "        data = fits.getdata(files[i])\n",
    "        rootname = os.path.basename(files[i])[:9]\n",
    "        segment = fits.getval(files[i], \"segment\")\n",
    "        expstart = fits.getval(files[i], \"expstart\", 1)\n",
    "        exptime = fits.getval(files[i], \"exptime\", 1)\n",
    "        hv = fits.getval(files[i], f\"HVLEVEL{segment[-1]}\", 1)\n",
    "        if isinstance(pha_interest, list):\n",
    "            events_interest = np.where((data[\"pha\"] < pha_interest[0]) | (data[\"pha\"] > pha_interest[-1]))[0]\n",
    "            events_notinterest = np.where((data[\"pha\"] >= pha_interest[0]) & (data[\"pha\"] <= pha_interest[-1]))[0]\n",
    "        else:\n",
    "            events_interest = np.where((data[\"pha\"] < pha_interest) | (data[\"pha\"] > pha_interest))[0]\n",
    "            events_notinterest = np.where(data[\"pha\"] == pha_interest)[0]\n",
    "        ax.plot(data[\"xfull\"][events_interest], data[\"yfull\"][events_interest], \"k.\", markersize=1)\n",
    "        ax.plot(data[\"xfull\"][events_notinterest], data[\"yfull\"][events_notinterest], \"r.\", markersize=2, alpha=0.9)\n",
    "        \n",
    "        #ax.set_title(f\"{rootname} {segment} {hv} {expstart:.2f} {round(exptime)}, PHA={pha_interest}\")\n",
    "        ax.set_title(f\"{rootname} {segment} {hv} {expstart:.2f}, PHA={pha_interest}\")\n",
    "        if segment == \"FUVA\":\n",
    "            ax.set_xlim(800, 15500)\n",
    "            ax.set_ylim(300, 800)\n",
    "        else:\n",
    "            ax.set_xlim(700, 15400)\n",
    "            ax.set_ylim(300, 850)      "
   ]
  },
  {
   "cell_type": "code",
   "execution_count": null,
   "metadata": {},
   "outputs": [],
   "source": []
  }
 ],
 "metadata": {
  "kernelspec": {
   "display_name": "Python 3 (ipykernel)",
   "language": "python",
   "name": "python3"
  },
  "language_info": {
   "codemirror_mode": {
    "name": "ipython",
    "version": 3
   },
   "file_extension": ".py",
   "mimetype": "text/x-python",
   "name": "python",
   "nbconvert_exporter": "python",
   "pygments_lexer": "ipython3",
   "version": "3.11.3"
  }
 },
 "nbformat": 4,
 "nbformat_minor": 4
}
