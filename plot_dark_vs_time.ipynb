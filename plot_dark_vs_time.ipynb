{
 "cells": [
  {
   "cell_type": "markdown",
   "metadata": {},
   "source": [
    "# Plot COS FUV dark counts as a function of time\n",
    "Author: Jo Taylor\n",
    "\n",
    "Date: June 26, 2020"
   ]
  },
  {
   "cell_type": "code",
   "execution_count": null,
   "metadata": {},
   "outputs": [],
   "source": [
    "import datashader as ds\n",
    "import holoviews as hv\n",
    "from holoviews.operation.datashader import datashade, dynspread\n",
    "from holoviews import opts\n",
    "import panel as pn\n",
    "hv.extension('bokeh')\n",
    "\n",
    "from query_darks import all_darks"
   ]
  },
  {
   "cell_type": "markdown",
   "metadata": {},
   "source": [
    "### Get the dark values for all PHAs from the database"
   ]
  },
  {
   "cell_type": "code",
   "execution_count": null,
   "metadata": {},
   "outputs": [],
   "source": [
    "# Get dark values from Darks database\n",
    "# This could take several seconds\n",
    "results = all_darks()"
   ]
  },
  {
   "cell_type": "code",
   "execution_count": null,
   "metadata": {},
   "outputs": [],
   "source": [
    "# Sort results by date\n",
    "results.sort_values(by=[\"expstart\"], inplace=True)\n",
    "#results[\"solar_flux\"] = results[\"solar_flux\"] - 100\n",
    "\n",
    "# Can use dask dataframe if desired\n",
    "#from dask import dataframe as dd\n",
    "#import multiprocessing as mp\n",
    "#results = dd.from_pandas(results, npartitions=mp.cpu_count())\n",
    "#results.persist()"
   ]
  },
  {
   "cell_type": "markdown",
   "metadata": {},
   "source": [
    "### Create the plots for dark counts and solar flux vs time"
   ]
  },
  {
   "cell_type": "code",
   "execution_count": null,
   "metadata": {},
   "outputs": [],
   "source": [
    "# Create dictionary with a Curve element for each PHA plot, then collect into a HoloMap to get a PHA slider widget\n",
    "curves = {i: hv.Curve(results, \"expstart\", f\"dark_pha{i}\") for i in range(32)}\n",
    "pha_holomap = hv.HoloMap(curves, kdims=\"PHA\")"
   ]
  },
  {
   "cell_type": "code",
   "execution_count": null,
   "metadata": {},
   "outputs": [],
   "source": [
    "# Make a Curve element for the solar flux\n",
    "solar = hv.Curve(results, \"expstart\", \"solar_flux\")"
   ]
  },
  {
   "cell_type": "code",
   "execution_count": null,
   "metadata": {},
   "outputs": [],
   "source": [
    "# Use dynspread to make line widths larger\n",
    "pha_spread = dynspread(datashade(pha_holomap, cmap=[\"cornflowerblue\"]), threshold=.3)\\\n",
    "                    .opts(title=\"Darks vs Time\", xlabel=\"Date [MJD]\", ylabel=\"Dark Counts\")\\\n",
    "                    .redim.range(expstart=(55000,59000), dark_pha0=(0,500))\n",
    "solar_spread = dynspread(datashade(solar, cmap=[\"mediumvioletred\"]), threshold=.3)\\\n",
    "                    .opts(xlabel=\"Date [MJD]\", ylabel=\"Solar Flux\")\n",
    "# Create legend for Darks and Solar curves\n",
    "legend = hv.NdOverlay({\"Darks\": hv.Points([[57000,0]], label=\"Darks\").opts(color=\"cornflowerblue\", size=0),\n",
    "                        \"Solar Flux\": hv.Points([[57000,0]], label=\"Solar Flux\").opts(color=\"mediumvioletred\", size=0)},\n",
    "                     kdims=\"Element\")\n",
    "# Put slider on top in case not plotting in a panel\n",
    "hv.output(widget_location=\"top\")"
   ]
  },
  {
   "cell_type": "code",
   "execution_count": null,
   "metadata": {},
   "outputs": [],
   "source": [
    "# Partition Elements into panels so that widget can be moved around at will\n",
    "pha_panel = pn.panel(pha_spread.opts(height=400, width=900))\n",
    "#pha_panel = pn.panel(pha_spread*legend.opts(height=400, width=900)) # Legend not used at the moment\n",
    "pha_plot = pha_panel[0]\n",
    "pha_slider = pha_panel[1]\n",
    "solar_panel = pn.panel(solar_spread.opts(height=200, width=900))\n",
    "layout = pn.Column(pha_slider, pha_plot, solar_panel)"
   ]
  },
  {
   "cell_type": "markdown",
   "metadata": {},
   "source": [
    "### Display plot\n",
    "Use the slider widget to see the dark counts as a function of recorded PHA. Solar flux is plotted underneath. Bokeh plot tools to the right of each plot can pan and zoom as desired. Click the circle arrow symbol to reset plot to original.\n",
    "\n",
    "_Note: depending on system memory, there may be a slight delay between moving slider and plot update._"
   ]
  },
  {
   "cell_type": "code",
   "execution_count": null,
   "metadata": {
    "scrolled": false
   },
   "outputs": [],
   "source": [
    "# Display final plot \n",
    "layout"
   ]
  },
  {
   "cell_type": "markdown",
   "metadata": {},
   "source": [
    "### Plot one PHA or a sum of PHAs at a time\n",
    "To do so, execute `plot_pha()` with either one or multiple PHA values:\n",
    "```\n",
    "plot_pha(10)\n",
    "```\n",
    "or\n",
    "```\n",
    "plot_pha([1, 11, 21])\n",
    "```\n",
    "If multiple PHAs are supplied, _**the sum of their individual arrays will be displayed**_.\n",
    "\n",
    "Choose to overlay the solar flux by toggling the `showsolar` switch."
   ]
  },
  {
   "cell_type": "code",
   "execution_count": null,
   "metadata": {},
   "outputs": [],
   "source": [
    "# Convenience function to plot one or more PHA curves at a time\n",
    "def plot_pha(pha, showsolar=True):\n",
    "    if isinstance(pha, list):\n",
    "        cols = [f\"dark_pha{i}\" for i in pha]\n",
    "        results[\"sumpha\"] = results[cols].sum(axis=1)\n",
    "        curve = hv.Curve(results, \"expstart\", \"sumpha\")\n",
    "    else: \n",
    "        curve = pha_holomap[pha]\n",
    "    pha_spread = dynspread(datashade(curve, cmap=[\"cornflowerblue\"]), threshold=.3)\\\n",
    "    .opts(title=f\"Darks vs Time for PHAs {pha}\", xlabel=\"Date [MJD]\", ylabel=\"Dark Counts\")\n",
    "    legend = hv.NdOverlay({\"Darks\": hv.Points([[57000,0]], label=\"Darks\").opts(color=\"cornflowerblue\", size=0),\n",
    "                        \"Solar Flux\": hv.Points([[57000,0]], label=\"Solar Flux\").opts(color=\"mediumvioletred\", size=0)},\n",
    "                        kdims=\"Element\")\n",
    " \n",
    "    if showsolar is True:\n",
    "        solar_spread = dynspread(datashade(solar, cmap=[\"mediumvioletred\"]).redim.range(x=(55000,59000), y=(0,100)), threshold=.3)\n",
    "        layout = pha_spread * solar_spread * legend\n",
    "    else:\n",
    "        layout = pha_spread\n",
    "    layout.opts(opts.RGB(height=400, width=950))\n",
    "    \n",
    "    return layout"
   ]
  },
  {
   "cell_type": "code",
   "execution_count": null,
   "metadata": {},
   "outputs": [],
   "source": [
    "plot_pha([1, 11, 21], showsolar=True)"
   ]
  },
  {
   "cell_type": "markdown",
   "metadata": {},
   "source": [
    "### Create the plots for dark counts vs solar flux"
   ]
  },
  {
   "cell_type": "code",
   "execution_count": null,
   "metadata": {},
   "outputs": [],
   "source": [
    "# Create dictionary with a Scatter element for each PHA plot, then collect into a HoloMap to get a PHA slider widget\n",
    "scatters = {i: hv.Scatter(results, \"solar_flux\", f\"dark_pha{i}\") for i in range(32)}\n",
    "pha_holomap2 = hv.HoloMap(scatters, kdims=\"PHA\")\n",
    "# Use dynspread to make line widths larger\n",
    "pha_spread2 = dynspread(datashade(pha_holomap2, cmap=[\"cornflowerblue\"]), threshold=.3)\\\n",
    "                    .opts(title=\"Darks vs Solar Flux\", xlabel=\"Solar Flux\", ylabel=\"Dark Counts\")\\\n",
    "                    .redim.range(expstart=(60,220), dark_pha0=(0,500))\n",
    "layout2 = pha_spread2\n",
    "layout2.opts(opts.RGB(height=400, width=950))\n",
    "# Put slider on top in case not plotting in a panel\n",
    "hv.output(widget_location=\"top\")"
   ]
  },
  {
   "cell_type": "code",
   "execution_count": null,
   "metadata": {},
   "outputs": [],
   "source": [
    "layout"
   ]
  }
 ],
 "metadata": {
  "kernelspec": {
   "display_name": "Python 3",
   "language": "python",
   "name": "python3"
  },
  "language_info": {
   "codemirror_mode": {
    "name": "ipython",
    "version": 3
   },
   "file_extension": ".py",
   "mimetype": "text/x-python",
   "name": "python",
   "nbconvert_exporter": "python",
   "pygments_lexer": "ipython3",
   "version": "3.7.6"
  }
 },
 "nbformat": 4,
 "nbformat_minor": 4
}
