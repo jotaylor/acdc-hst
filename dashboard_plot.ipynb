{
 "cells": [
  {
   "cell_type": "code",
   "execution_count": null,
   "metadata": {},
   "outputs": [],
   "source": [
    "from IPython.core.display import display, HTML\n",
    "display(HTML(\"<style>.container { width:100% !important; }</style>\"))\n",
    "display(\"text/html\", \"<style>.container { width:100% !important; }</style>\")"
   ]
  },
  {
   "cell_type": "code",
   "execution_count": null,
   "metadata": {},
   "outputs": [],
   "source": [
    "import pickle\n",
    "import datashader as ds\n",
    "import holoviews as hv\n",
    "from holoviews.operation.datashader import datashade, dynspread, spread\n",
    "from holoviews import opts\n",
    "from holoviews.selection import link_selections\n",
    "import panel as pn\n",
    "hv.extension('bokeh')\n",
    "\n",
    "from query_darks import counts_by_mjd, all_darks\n",
    "import within_saa"
   ]
  },
  {
   "cell_type": "code",
   "execution_count": null,
   "metadata": {},
   "outputs": [],
   "source": [
    "#df2 = counts_by_mjd(mjdstart=56500, mjdend=56510)\n",
    "df = all_darks()\n",
    "df.sort_values(by=[\"expstart\"], inplace=True)"
   ]
  },
  {
   "cell_type": "code",
   "execution_count": null,
   "metadata": {},
   "outputs": [],
   "source": [
    "flags = within_saa.saaFilter(df[\"longitude\"].to_numpy(), df[\"latitude\"].to_numpy())\n",
    "df_flag = df.loc[flags]\n",
    "df_noflag = df.loc[flags == False]"
   ]
  },
  {
   "cell_type": "code",
   "execution_count": null,
   "metadata": {},
   "outputs": [],
   "source": [
    "p = pickle.load(open(\"stats.p\", \"rb\"))"
   ]
  },
  {
   "cell_type": "code",
   "execution_count": null,
   "metadata": {},
   "outputs": [],
   "source": [
    "import param\n",
    "import panel as pn\n",
    "\n",
    "class DarkExplorer(param.Parameterized):\n",
    "    flagsaa = param.Boolean(default=False)\n",
    "    region = param.ObjectSelector(default=\"inner\", objects=set(df[\"region\"]))\n",
    "    segment = param.ObjectSelector(default=\"FUVA\", objects=[\"FUVA\", \"FUVB\"])\n",
    "    hv = param.ObjectSelector(default=167, objects=set(df[\"hv\"]))\n",
    "    \n",
    "    xaxis = param.ObjectSelector(default=\"expstart\", objects=df.columns)\n",
    "    yaxis = param.ObjectSelector(default=\"dark_pha11\", objects=df.columns)\n",
    "    \n",
    "    @param.depends(\"region\", \"segment\", \"hv\", \"xaxis\", \"yaxis\")\n",
    "    def saa_false(self):\n",
    "        dfplot_noflag = df_noflag.loc[(df_noflag[\"segment\"] == self.segment) & (df_noflag[\"hv\"] == self.hv) & (df_noflag[\"region\"] == self.region)]\n",
    "        sctr_noflag = hv.Scatter((dfplot_noflag[self.xaxis], dfplot_noflag[self.yaxis]))\n",
    "        return sctr_noflag\n",
    "    \n",
    "    @param.depends(\"region\", \"segment\", \"hv\", \"xaxis\", \"yaxis\")\n",
    "    def saa_true(self):\n",
    "        dfplot_flag = df_flag.loc[(df_flag[\"segment\"] == self.segment) & (df_flag[\"hv\"] == self.hv) & (df_flag[\"region\"] == self.region)]\n",
    "        sctr_flag = hv.Scatter((dfplot_flag[self.xaxis], dfplot_flag[self.yaxis]))\n",
    "        return sctr_flag\n",
    "    \n",
    "    @param.depends(\"flagsaa\")\n",
    "    def view(self):\n",
    "        dmap_noflag = hv.DynamicMap(self.saa_false)\n",
    "        #dmap_ds = dynspread(datashade(dmap_noflag)).opts(framewise=True, height=700, width=1000)\n",
    "        dmap_ds = dmap_noflag.opts(framewise=True, height=700, width=1000)\n",
    "        if self.flagsaa:\n",
    "            dmap_flag = hv.DynamicMap(self.saa_true)\n",
    "            #dmap_flag_ds = dynspread(datashade(dmap_flag, cmap=[\"red\"])).opts(framewise=True, height=700, width=1000)\n",
    "            dmap_flag_ds = dmap_flag.opts(color=\"red\", framewise=True, height=700, width=1000)\n",
    "            dmap_ds = dmap_ds * dmap_flag_ds\n",
    "        return dmap_ds\n",
    "            "
   ]
  },
  {
   "cell_type": "code",
   "execution_count": null,
   "metadata": {
    "scrolled": false
   },
   "outputs": [],
   "source": [
    "explorer = DarkExplorer()\n",
    "pn.Row(explorer.param, explorer.view)"
   ]
  },
  {
   "cell_type": "code",
   "execution_count": null,
   "metadata": {},
   "outputs": [],
   "source": [
    "#explorer = DarkExplorer()\n",
    "#dark_dmap = dynspread(datashade(hv.DynamicMap(explorer.load_data).opts(framewise=True), cmap=[\"cornflowerblue\"]).opts(framewise=True), threshold=0.5).opts(framewise=True, height=700, width=1000)\n",
    "##dark_dmap = hv.DynamicMap(explorer.load_data)\n",
    "#pn.Row(pn.panel(explorer.param, parameters=[\"flagsaa\", \"region\", \"segment\", \"hv\", \"xaxis\", \"yaxis\"]), dark_dmap)"
   ]
  },
  {
   "cell_type": "code",
   "execution_count": null,
   "metadata": {},
   "outputs": [],
   "source": []
  }
 ],
 "metadata": {
  "kernelspec": {
   "display_name": "Python 3",
   "language": "python",
   "name": "python3"
  },
  "language_info": {
   "codemirror_mode": {
    "name": "ipython",
    "version": 3
   },
   "file_extension": ".py",
   "mimetype": "text/x-python",
   "name": "python",
   "nbconvert_exporter": "python",
   "pygments_lexer": "ipython3",
   "version": "3.7.6"
  }
 },
 "nbformat": 4,
 "nbformat_minor": 4
}
